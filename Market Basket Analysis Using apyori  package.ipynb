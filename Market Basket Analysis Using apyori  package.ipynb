{
 "cells": [
  {
   "cell_type": "markdown",
   "metadata": {
    "id": "rCcF4XSF8wPP"
   },
   "source": [
    "# Market Basket Analysis of Store Data\n",
    "\n",
    "## Dataset Description\n",
    "\n",
    "* Different products given 7500 transactions over the course of a week at a French retail store.\n",
    "* We have library(**apyori**) to calculate the association rule using Apriori."
   ]
  },
  {
   "cell_type": "code",
   "execution_count": null,
   "metadata": {
    "id": "4z6jQPg2cg5n"
   },
   "outputs": [],
   "source": []
  },
  {
   "cell_type": "markdown",
   "metadata": {
    "id": "ipHOITxT8wPY"
   },
   "source": [
    "## Import the Library"
   ]
  },
  {
   "cell_type": "code",
   "execution_count": 1,
   "metadata": {
    "colab": {
     "base_uri": "https://localhost:8080/"
    },
    "executionInfo": {
     "elapsed": 6145,
     "status": "ok",
     "timestamp": 1695630383399,
     "user": {
      "displayName": "Dr.YOGESH R. KULKARNI (YRK)",
      "userId": "14065782165978437974"
     },
     "user_tz": -330
    },
    "id": "cJ9gZQTk9PFL",
    "outputId": "5c3f1266-5e99-4254-9577-9bfe763bd7c2"
   },
   "outputs": [
    {
     "name": "stdout",
     "output_type": "stream",
     "text": [
      "Requirement already satisfied: apyori in c:\\users\\arya borhade\\appdata\\local\\packages\\pythonsoftwarefoundation.python.3.11_qbz5n2kfra8p0\\localcache\\local-packages\\python311\\site-packages (1.1.2)\n"
     ]
    },
    {
     "name": "stderr",
     "output_type": "stream",
     "text": [
      "\n",
      "[notice] A new release of pip is available: 24.0 -> 25.0.1\n",
      "[notice] To update, run: C:\\Users\\Arya Borhade\\AppData\\Local\\Microsoft\\WindowsApps\\PythonSoftwareFoundation.Python.3.11_qbz5n2kfra8p0\\python.exe -m pip install --upgrade pip\n"
     ]
    }
   ],
   "source": [
    "!pip install apyori"
   ]
  },
  {
   "cell_type": "code",
   "execution_count": 2,
   "metadata": {
    "ExecuteTime": {
     "end_time": "2019-05-31T11:46:52.394081Z",
     "start_time": "2019-05-31T11:46:51.727017Z"
    },
    "id": "It7SJ5e58wPZ"
   },
   "outputs": [],
   "source": [
    "import numpy as np\n",
    "import pandas as pd\n",
    "import matplotlib.pyplot as plt\n",
    "from apyori import apriori"
   ]
  },
  {
   "cell_type": "markdown",
   "metadata": {
    "id": "PzsmExrS8wPc"
   },
   "source": [
    "## Read data and Display"
   ]
  },
  {
   "cell_type": "code",
   "execution_count": 3,
   "metadata": {
    "ExecuteTime": {
     "end_time": "2019-05-31T11:46:52.446120Z",
     "start_time": "2019-05-31T11:46:52.396020Z"
    },
    "colab": {
     "base_uri": "https://localhost:8080/",
     "height": 211
    },
    "executionInfo": {
     "elapsed": 11,
     "status": "error",
     "timestamp": 1698651170133,
     "user": {
      "displayName": "Dr. Prashant Lahane",
      "userId": "09941172843787279561"
     },
     "user_tz": -330
    },
    "id": "rUG5pkTZ8wPd",
    "outputId": "e28ec68b-ef1d-46a0-a8c5-c3c497e37d40"
   },
   "outputs": [
    {
     "data": {
      "text/html": [
       "<div>\n",
       "<style scoped>\n",
       "    .dataframe tbody tr th:only-of-type {\n",
       "        vertical-align: middle;\n",
       "    }\n",
       "\n",
       "    .dataframe tbody tr th {\n",
       "        vertical-align: top;\n",
       "    }\n",
       "\n",
       "    .dataframe thead th {\n",
       "        text-align: right;\n",
       "    }\n",
       "</style>\n",
       "<table border=\"1\" class=\"dataframe\">\n",
       "  <thead>\n",
       "    <tr style=\"text-align: right;\">\n",
       "      <th></th>\n",
       "      <th>0</th>\n",
       "      <th>1</th>\n",
       "      <th>2</th>\n",
       "      <th>3</th>\n",
       "      <th>4</th>\n",
       "      <th>5</th>\n",
       "      <th>6</th>\n",
       "      <th>7</th>\n",
       "      <th>8</th>\n",
       "      <th>9</th>\n",
       "      <th>10</th>\n",
       "      <th>11</th>\n",
       "      <th>12</th>\n",
       "      <th>13</th>\n",
       "      <th>14</th>\n",
       "      <th>15</th>\n",
       "      <th>16</th>\n",
       "      <th>17</th>\n",
       "      <th>18</th>\n",
       "      <th>19</th>\n",
       "    </tr>\n",
       "  </thead>\n",
       "  <tbody>\n",
       "    <tr>\n",
       "      <th>0</th>\n",
       "      <td>shrimp</td>\n",
       "      <td>almonds</td>\n",
       "      <td>avocado</td>\n",
       "      <td>vegetables mix</td>\n",
       "      <td>green grapes</td>\n",
       "      <td>whole weat flour</td>\n",
       "      <td>yams</td>\n",
       "      <td>cottage cheese</td>\n",
       "      <td>energy drink</td>\n",
       "      <td>tomato juice</td>\n",
       "      <td>low fat yogurt</td>\n",
       "      <td>green tea</td>\n",
       "      <td>honey</td>\n",
       "      <td>salad</td>\n",
       "      <td>mineral water</td>\n",
       "      <td>salmon</td>\n",
       "      <td>antioxydant juice</td>\n",
       "      <td>frozen smoothie</td>\n",
       "      <td>spinach</td>\n",
       "      <td>olive oil</td>\n",
       "    </tr>\n",
       "    <tr>\n",
       "      <th>1</th>\n",
       "      <td>burgers</td>\n",
       "      <td>meatballs</td>\n",
       "      <td>eggs</td>\n",
       "      <td>NaN</td>\n",
       "      <td>NaN</td>\n",
       "      <td>NaN</td>\n",
       "      <td>NaN</td>\n",
       "      <td>NaN</td>\n",
       "      <td>NaN</td>\n",
       "      <td>NaN</td>\n",
       "      <td>NaN</td>\n",
       "      <td>NaN</td>\n",
       "      <td>NaN</td>\n",
       "      <td>NaN</td>\n",
       "      <td>NaN</td>\n",
       "      <td>NaN</td>\n",
       "      <td>NaN</td>\n",
       "      <td>NaN</td>\n",
       "      <td>NaN</td>\n",
       "      <td>NaN</td>\n",
       "    </tr>\n",
       "    <tr>\n",
       "      <th>2</th>\n",
       "      <td>chutney</td>\n",
       "      <td>NaN</td>\n",
       "      <td>NaN</td>\n",
       "      <td>NaN</td>\n",
       "      <td>NaN</td>\n",
       "      <td>NaN</td>\n",
       "      <td>NaN</td>\n",
       "      <td>NaN</td>\n",
       "      <td>NaN</td>\n",
       "      <td>NaN</td>\n",
       "      <td>NaN</td>\n",
       "      <td>NaN</td>\n",
       "      <td>NaN</td>\n",
       "      <td>NaN</td>\n",
       "      <td>NaN</td>\n",
       "      <td>NaN</td>\n",
       "      <td>NaN</td>\n",
       "      <td>NaN</td>\n",
       "      <td>NaN</td>\n",
       "      <td>NaN</td>\n",
       "    </tr>\n",
       "    <tr>\n",
       "      <th>3</th>\n",
       "      <td>turkey</td>\n",
       "      <td>avocado</td>\n",
       "      <td>NaN</td>\n",
       "      <td>NaN</td>\n",
       "      <td>NaN</td>\n",
       "      <td>NaN</td>\n",
       "      <td>NaN</td>\n",
       "      <td>NaN</td>\n",
       "      <td>NaN</td>\n",
       "      <td>NaN</td>\n",
       "      <td>NaN</td>\n",
       "      <td>NaN</td>\n",
       "      <td>NaN</td>\n",
       "      <td>NaN</td>\n",
       "      <td>NaN</td>\n",
       "      <td>NaN</td>\n",
       "      <td>NaN</td>\n",
       "      <td>NaN</td>\n",
       "      <td>NaN</td>\n",
       "      <td>NaN</td>\n",
       "    </tr>\n",
       "    <tr>\n",
       "      <th>4</th>\n",
       "      <td>mineral water</td>\n",
       "      <td>milk</td>\n",
       "      <td>energy bar</td>\n",
       "      <td>whole wheat rice</td>\n",
       "      <td>green tea</td>\n",
       "      <td>NaN</td>\n",
       "      <td>NaN</td>\n",
       "      <td>NaN</td>\n",
       "      <td>NaN</td>\n",
       "      <td>NaN</td>\n",
       "      <td>NaN</td>\n",
       "      <td>NaN</td>\n",
       "      <td>NaN</td>\n",
       "      <td>NaN</td>\n",
       "      <td>NaN</td>\n",
       "      <td>NaN</td>\n",
       "      <td>NaN</td>\n",
       "      <td>NaN</td>\n",
       "      <td>NaN</td>\n",
       "      <td>NaN</td>\n",
       "    </tr>\n",
       "  </tbody>\n",
       "</table>\n",
       "</div>"
      ],
      "text/plain": [
       "              0          1           2                 3             4   \\\n",
       "0         shrimp    almonds     avocado    vegetables mix  green grapes   \n",
       "1        burgers  meatballs        eggs               NaN           NaN   \n",
       "2        chutney        NaN         NaN               NaN           NaN   \n",
       "3         turkey    avocado         NaN               NaN           NaN   \n",
       "4  mineral water       milk  energy bar  whole wheat rice     green tea   \n",
       "\n",
       "                 5     6               7             8             9   \\\n",
       "0  whole weat flour  yams  cottage cheese  energy drink  tomato juice   \n",
       "1               NaN   NaN             NaN           NaN           NaN   \n",
       "2               NaN   NaN             NaN           NaN           NaN   \n",
       "3               NaN   NaN             NaN           NaN           NaN   \n",
       "4               NaN   NaN             NaN           NaN           NaN   \n",
       "\n",
       "               10         11     12     13             14      15  \\\n",
       "0  low fat yogurt  green tea  honey  salad  mineral water  salmon   \n",
       "1             NaN        NaN    NaN    NaN            NaN     NaN   \n",
       "2             NaN        NaN    NaN    NaN            NaN     NaN   \n",
       "3             NaN        NaN    NaN    NaN            NaN     NaN   \n",
       "4             NaN        NaN    NaN    NaN            NaN     NaN   \n",
       "\n",
       "                  16               17       18         19  \n",
       "0  antioxydant juice  frozen smoothie  spinach  olive oil  \n",
       "1                NaN              NaN      NaN        NaN  \n",
       "2                NaN              NaN      NaN        NaN  \n",
       "3                NaN              NaN      NaN        NaN  \n",
       "4                NaN              NaN      NaN        NaN  "
      ]
     },
     "metadata": {},
     "output_type": "display_data"
    },
    {
     "name": "stdout",
     "output_type": "stream",
     "text": [
      "(7501, 20)\n"
     ]
    }
   ],
   "source": [
    "store_data = pd.read_csv(\"store_data.csv\", header=None)\n",
    "display(store_data.head())\n",
    "print(store_data.shape)"
   ]
  },
  {
   "cell_type": "markdown",
   "metadata": {
    "id": "B6IrSH6l8wPf"
   },
   "source": [
    "## Preprocessing on Data\n",
    "*  Here we need a data in form of list for Apriori Algorithm."
   ]
  },
  {
   "cell_type": "code",
   "execution_count": 4,
   "metadata": {
    "ExecuteTime": {
     "end_time": "2019-05-31T11:46:53.754118Z",
     "start_time": "2019-05-31T11:46:52.448022Z"
    },
    "id": "rjI6liQy8wPg"
   },
   "outputs": [],
   "source": [
    "records = []\n",
    "for i in range(1, 7501):\n",
    "    records.append([str(store_data.values[i, j]) for j in range(0, 20)])"
   ]
  },
  {
   "cell_type": "code",
   "execution_count": 5,
   "metadata": {
    "ExecuteTime": {
     "end_time": "2019-05-31T11:46:53.759119Z",
     "start_time": "2019-05-31T11:46:53.756117Z"
    },
    "colab": {
     "base_uri": "https://localhost:8080/"
    },
    "executionInfo": {
     "elapsed": 16,
     "status": "ok",
     "timestamp": 1677478138847,
     "user": {
      "displayName": "Sagar Apune",
      "userId": "15493244417783154873"
     },
     "user_tz": -330
    },
    "id": "hyYhAdF_8wPh",
    "outputId": "162e6243-da2e-47f4-b66b-d2e13b876ab0"
   },
   "outputs": [
    {
     "name": "stdout",
     "output_type": "stream",
     "text": [
      "<class 'list'>\n"
     ]
    }
   ],
   "source": [
    "print(type(records))"
   ]
  },
  {
   "cell_type": "markdown",
   "metadata": {
    "id": "O0ySpKUX8wPi"
   },
   "source": [
    "## Apriori Algorithm\n",
    "\n",
    "* Now time to apply algorithm on data.\n",
    "* We have provide `min_support`, `min_confidence`, `min_lift`, and `min length` of sample-set for find rule.\n",
    "\n",
    "#### Measure 1: Support.\n",
    "This says how popular an itemset is, as measured by the proportion of transactions in which an itemset appears. In Table 1 below, the support of {apple} is 4 out of 8, or 50%. Itemsets can also contain multiple items. For instance, the support of {apple, beer, rice} is 2 out of 8, or 25%.\n",
    "\n",
    "![](https://annalyzin.files.wordpress.com/2016/04/association-rule-support-table.png?w=503&h=447)\n",
    "\n",
    "If you discover that sales of items beyond a certain proportion tend to have a significant impact on your profits, you might consider using that proportion as your support threshold. You may then identify itemsets with support values above this threshold as significant itemsets.\n",
    "\n",
    "#### Measure 2: Confidence.\n",
    "This says how likely item Y is purchased when item X is purchased, expressed as {X -> Y}. This is measured by the proportion of transactions with item X, in which item Y also appears. In Table 1, the confidence of {apple -> beer} is 3 out of 4, or 75%.\n",
    "\n",
    "![](https://annalyzin.files.wordpress.com/2016/03/association-rule-confidence-eqn.png?w=527&h=77)\n",
    "\n",
    "One drawback of the confidence measure is that it might misrepresent the importance of an association. This is because it only accounts for how popular apples are, but not beers. If beers are also very popular in general, there will be a higher chance that a transaction containing apples will also contain beers, thus inflating the confidence measure. To account for the base popularity of both constituent items, we use a third measure called lift.\n",
    "\n",
    "#### Measure 3: Lift.\n",
    "This says how likely item Y is purchased when item X is purchased, while controlling for how popular item Y is. In Table 1, the lift of {apple -> beer} is 1,which implies no association between items. A lift value greater than 1 means that item Y is likely to be bought if item X is bought, while a value less than 1 means that item Y is unlikely to be bought if item X is bought.\n",
    "![](https://annalyzin.files.wordpress.com/2016/03/association-rule-lift-eqn.png?w=566&h=80)"
   ]
  },
  {
   "cell_type": "code",
   "execution_count": 6,
   "metadata": {
    "ExecuteTime": {
     "end_time": "2019-05-31T11:47:42.407141Z",
     "start_time": "2019-05-31T11:47:40.566100Z"
    },
    "id": "WWbNdFec8wPl"
   },
   "outputs": [],
   "source": [
    "association_rules = apriori(records, min_support=0.0045, min_confidence=0.2, min_lift=3, min_length=2)\n",
    "association_results = list(association_rules)"
   ]
  },
  {
   "cell_type": "code",
   "execution_count": 12,
   "metadata": {
    "colab": {
     "base_uri": "https://localhost:8080/"
    },
    "executionInfo": {
     "elapsed": 6,
     "status": "ok",
     "timestamp": 1677478170823,
     "user": {
      "displayName": "Sagar Apune",
      "userId": "15493244417783154873"
     },
     "user_tz": -330
    },
    "id": "D6OObeAyfVn8",
    "outputId": "aab9aeb5-c2cb-4565-d003-a91927f25b33"
   },
   "outputs": [
    {
     "name": "stdout",
     "output_type": "stream",
     "text": [
      "[RelationRecord(items=frozenset({'chicken', 'light cream'}), support=0.004533333333333334, ordered_statistics=[OrderedStatistic(items_base=frozenset({'light cream'}), items_add=frozenset({'chicken'}), confidence=0.2905982905982906, lift=4.843304843304844)]), RelationRecord(items=frozenset({'escalope', 'mushroom cream sauce'}), support=0.005733333333333333, ordered_statistics=[OrderedStatistic(items_base=frozenset({'mushroom cream sauce'}), items_add=frozenset({'escalope'}), confidence=0.30069930069930073, lift=3.7903273197390845)]), RelationRecord(items=frozenset({'escalope', 'pasta'}), support=0.005866666666666667, ordered_statistics=[OrderedStatistic(items_base=frozenset({'pasta'}), items_add=frozenset({'escalope'}), confidence=0.37288135593220345, lift=4.700185158809287)]), RelationRecord(items=frozenset({'herb & pepper', 'ground beef'}), support=0.016, ordered_statistics=[OrderedStatistic(items_base=frozenset({'herb & pepper'}), items_add=frozenset({'ground beef'}), confidence=0.3234501347708895, lift=3.2915549671393096)]), RelationRecord(items=frozenset({'tomato sauce', 'ground beef'}), support=0.005333333333333333, ordered_statistics=[OrderedStatistic(items_base=frozenset({'tomato sauce'}), items_add=frozenset({'ground beef'}), confidence=0.37735849056603776, lift=3.840147461662528)]), RelationRecord(items=frozenset({'olive oil', 'whole wheat pasta'}), support=0.008, ordered_statistics=[OrderedStatistic(items_base=frozenset({'whole wheat pasta'}), items_add=frozenset({'olive oil'}), confidence=0.2714932126696833, lift=4.130221288078346)]), RelationRecord(items=frozenset({'shrimp', 'pasta'}), support=0.005066666666666666, ordered_statistics=[OrderedStatistic(items_base=frozenset({'pasta'}), items_add=frozenset({'shrimp'}), confidence=0.3220338983050848, lift=4.514493901473151)]), RelationRecord(items=frozenset({'nan', 'chicken', 'light cream'}), support=0.004533333333333334, ordered_statistics=[OrderedStatistic(items_base=frozenset({'light cream'}), items_add=frozenset({'nan', 'chicken'}), confidence=0.2905982905982906, lift=4.843304843304844), OrderedStatistic(items_base=frozenset({'nan', 'light cream'}), items_add=frozenset({'chicken'}), confidence=0.2905982905982906, lift=4.843304843304844)]), RelationRecord(items=frozenset({'shrimp', 'frozen vegetables', 'chocolate'}), support=0.005333333333333333, ordered_statistics=[OrderedStatistic(items_base=frozenset({'frozen vegetables', 'chocolate'}), items_add=frozenset({'shrimp'}), confidence=0.23255813953488372, lift=3.260160834601174), OrderedStatistic(items_base=frozenset({'shrimp', 'chocolate'}), items_add=frozenset({'frozen vegetables'}), confidence=0.29629629629629634, lift=3.1080031080031083)]), RelationRecord(items=frozenset({'ground beef', 'cooking oil', 'spaghetti'}), support=0.0048, ordered_statistics=[OrderedStatistic(items_base=frozenset({'ground beef', 'cooking oil'}), items_add=frozenset({'spaghetti'}), confidence=0.5714285714285714, lift=3.281557646029315), OrderedStatistic(items_base=frozenset({'cooking oil', 'spaghetti'}), items_add=frozenset({'ground beef'}), confidence=0.30252100840336127, lift=3.0785719986773534)]), RelationRecord(items=frozenset({'escalope', 'nan', 'mushroom cream sauce'}), support=0.005733333333333333, ordered_statistics=[OrderedStatistic(items_base=frozenset({'mushroom cream sauce'}), items_add=frozenset({'escalope', 'nan'}), confidence=0.30069930069930073, lift=3.7903273197390845), OrderedStatistic(items_base=frozenset({'mushroom cream sauce', 'nan'}), items_add=frozenset({'escalope'}), confidence=0.30069930069930073, lift=3.7903273197390845)]), RelationRecord(items=frozenset({'escalope', 'nan', 'pasta'}), support=0.005866666666666667, ordered_statistics=[OrderedStatistic(items_base=frozenset({'pasta'}), items_add=frozenset({'escalope', 'nan'}), confidence=0.37288135593220345, lift=4.700185158809287), OrderedStatistic(items_base=frozenset({'nan', 'pasta'}), items_add=frozenset({'escalope'}), confidence=0.37288135593220345, lift=4.700185158809287)]), RelationRecord(items=frozenset({'frozen vegetables', 'ground beef', 'spaghetti'}), support=0.008666666666666666, ordered_statistics=[OrderedStatistic(items_base=frozenset({'frozen vegetables', 'spaghetti'}), items_add=frozenset({'ground beef'}), confidence=0.3110047846889952, lift=3.164906221394116)]), RelationRecord(items=frozenset({'milk', 'frozen vegetables', 'olive oil'}), support=0.0048, ordered_statistics=[OrderedStatistic(items_base=frozenset({'milk', 'frozen vegetables'}), items_add=frozenset({'olive oil'}), confidence=0.20338983050847456, lift=3.094165778526489), OrderedStatistic(items_base=frozenset({'frozen vegetables', 'olive oil'}), items_add=frozenset({'milk'}), confidence=0.4235294117647058, lift=3.26797385620915)]), RelationRecord(items=frozenset({'shrimp', 'frozen vegetables', 'mineral water'}), support=0.0072, ordered_statistics=[OrderedStatistic(items_base=frozenset({'shrimp', 'mineral water'}), items_add=frozenset({'frozen vegetables'}), confidence=0.3068181818181818, lift=3.2183725365543547)]), RelationRecord(items=frozenset({'frozen vegetables', 'spaghetti', 'olive oil'}), support=0.005733333333333333, ordered_statistics=[OrderedStatistic(items_base=frozenset({'frozen vegetables', 'spaghetti'}), items_add=frozenset({'olive oil'}), confidence=0.20574162679425836, lift=3.1299436124887174)]), RelationRecord(items=frozenset({'shrimp', 'frozen vegetables', 'spaghetti'}), support=0.006, ordered_statistics=[OrderedStatistic(items_base=frozenset({'frozen vegetables', 'spaghetti'}), items_add=frozenset({'shrimp'}), confidence=0.21531100478468898, lift=3.0183785717479763)]), RelationRecord(items=frozenset({'tomatoes', 'frozen vegetables', 'spaghetti'}), support=0.006666666666666667, ordered_statistics=[OrderedStatistic(items_base=frozenset({'frozen vegetables', 'spaghetti'}), items_add=frozenset({'tomatoes'}), confidence=0.23923444976076555, lift=3.497579674864993), OrderedStatistic(items_base=frozenset({'tomatoes', 'spaghetti'}), items_add=frozenset({'frozen vegetables'}), confidence=0.3184713375796178, lift=3.340608436149837)]), RelationRecord(items=frozenset({'grated cheese', 'ground beef', 'spaghetti'}), support=0.005333333333333333, ordered_statistics=[OrderedStatistic(items_base=frozenset({'grated cheese', 'spaghetti'}), items_add=frozenset({'ground beef'}), confidence=0.3225806451612903, lift=3.282706701098612)]), RelationRecord(items=frozenset({'herb & pepper', 'ground beef', 'mineral water'}), support=0.006666666666666667, ordered_statistics=[OrderedStatistic(items_base=frozenset({'herb & pepper', 'mineral water'}), items_add=frozenset({'ground beef'}), confidence=0.390625, lift=3.975152645861601)]), RelationRecord(items=frozenset({'herb & pepper', 'nan', 'ground beef'}), support=0.016, ordered_statistics=[OrderedStatistic(items_base=frozenset({'herb & pepper'}), items_add=frozenset({'nan', 'ground beef'}), confidence=0.3234501347708895, lift=3.2915549671393096), OrderedStatistic(items_base=frozenset({'herb & pepper', 'nan'}), items_add=frozenset({'ground beef'}), confidence=0.3234501347708895, lift=3.2915549671393096)]), RelationRecord(items=frozenset({'herb & pepper', 'ground beef', 'spaghetti'}), support=0.0064, ordered_statistics=[OrderedStatistic(items_base=frozenset({'herb & pepper', 'spaghetti'}), items_add=frozenset({'ground beef'}), confidence=0.3934426229508197, lift=4.003825878061259)]), RelationRecord(items=frozenset({'milk', 'olive oil', 'ground beef'}), support=0.004933333333333333, ordered_statistics=[OrderedStatistic(items_base=frozenset({'milk', 'ground beef'}), items_add=frozenset({'olive oil'}), confidence=0.22424242424242424, lift=3.411395906324912)]), RelationRecord(items=frozenset({'tomato sauce', 'nan', 'ground beef'}), support=0.005333333333333333, ordered_statistics=[OrderedStatistic(items_base=frozenset({'tomato sauce'}), items_add=frozenset({'nan', 'ground beef'}), confidence=0.37735849056603776, lift=3.840147461662528), OrderedStatistic(items_base=frozenset({'nan', 'tomato sauce'}), items_add=frozenset({'ground beef'}), confidence=0.37735849056603776, lift=3.840147461662528)]), RelationRecord(items=frozenset({'shrimp', 'ground beef', 'spaghetti'}), support=0.006, ordered_statistics=[OrderedStatistic(items_base=frozenset({'shrimp', 'ground beef'}), items_add=frozenset({'spaghetti'}), confidence=0.5232558139534884, lift=3.004914704939635)]), RelationRecord(items=frozenset({'milk', 'olive oil', 'spaghetti'}), support=0.0072, ordered_statistics=[OrderedStatistic(items_base=frozenset({'milk', 'spaghetti'}), items_add=frozenset({'olive oil'}), confidence=0.20300751879699247, lift=3.0883496774390333)]), RelationRecord(items=frozenset({'soup', 'olive oil', 'mineral water'}), support=0.0052, ordered_statistics=[OrderedStatistic(items_base=frozenset({'soup', 'mineral water'}), items_add=frozenset({'olive oil'}), confidence=0.2254335260115607, lift=3.4295161157945335)]), RelationRecord(items=frozenset({'nan', 'olive oil', 'whole wheat pasta'}), support=0.008, ordered_statistics=[OrderedStatistic(items_base=frozenset({'whole wheat pasta'}), items_add=frozenset({'nan', 'olive oil'}), confidence=0.2714932126696833, lift=4.130221288078346), OrderedStatistic(items_base=frozenset({'nan', 'whole wheat pasta'}), items_add=frozenset({'olive oil'}), confidence=0.2714932126696833, lift=4.130221288078346)]), RelationRecord(items=frozenset({'nan', 'pasta', 'shrimp'}), support=0.005066666666666666, ordered_statistics=[OrderedStatistic(items_base=frozenset({'pasta'}), items_add=frozenset({'nan', 'shrimp'}), confidence=0.3220338983050848, lift=4.514493901473151), OrderedStatistic(items_base=frozenset({'nan', 'pasta'}), items_add=frozenset({'shrimp'}), confidence=0.3220338983050848, lift=4.514493901473151)]), RelationRecord(items=frozenset({'spaghetti', 'olive oil', 'pancakes'}), support=0.005066666666666666, ordered_statistics=[OrderedStatistic(items_base=frozenset({'spaghetti', 'pancakes'}), items_add=frozenset({'olive oil'}), confidence=0.20105820105820105, lift=3.0586947422647217)]), RelationRecord(items=frozenset({'nan', 'frozen vegetables', 'shrimp', 'chocolate'}), support=0.005333333333333333, ordered_statistics=[OrderedStatistic(items_base=frozenset({'frozen vegetables', 'chocolate'}), items_add=frozenset({'nan', 'shrimp'}), confidence=0.23255813953488372, lift=3.260160834601174), OrderedStatistic(items_base=frozenset({'shrimp', 'chocolate'}), items_add=frozenset({'nan', 'frozen vegetables'}), confidence=0.29629629629629634, lift=3.1080031080031083), OrderedStatistic(items_base=frozenset({'nan', 'frozen vegetables', 'chocolate'}), items_add=frozenset({'shrimp'}), confidence=0.23255813953488372, lift=3.260160834601174), OrderedStatistic(items_base=frozenset({'nan', 'shrimp', 'chocolate'}), items_add=frozenset({'frozen vegetables'}), confidence=0.29629629629629634, lift=3.1080031080031083)]), RelationRecord(items=frozenset({'nan', 'ground beef', 'cooking oil', 'spaghetti'}), support=0.0048, ordered_statistics=[OrderedStatistic(items_base=frozenset({'ground beef', 'cooking oil'}), items_add=frozenset({'nan', 'spaghetti'}), confidence=0.5714285714285714, lift=3.281557646029315), OrderedStatistic(items_base=frozenset({'cooking oil', 'spaghetti'}), items_add=frozenset({'nan', 'ground beef'}), confidence=0.30252100840336127, lift=3.0785719986773534), OrderedStatistic(items_base=frozenset({'nan', 'ground beef', 'cooking oil'}), items_add=frozenset({'spaghetti'}), confidence=0.5714285714285714, lift=3.281557646029315), OrderedStatistic(items_base=frozenset({'nan', 'cooking oil', 'spaghetti'}), items_add=frozenset({'ground beef'}), confidence=0.30252100840336127, lift=3.0785719986773534)]), RelationRecord(items=frozenset({'nan', 'frozen vegetables', 'ground beef', 'spaghetti'}), support=0.008666666666666666, ordered_statistics=[OrderedStatistic(items_base=frozenset({'frozen vegetables', 'spaghetti'}), items_add=frozenset({'nan', 'ground beef'}), confidence=0.3110047846889952, lift=3.164906221394116), OrderedStatistic(items_base=frozenset({'nan', 'frozen vegetables', 'spaghetti'}), items_add=frozenset({'ground beef'}), confidence=0.3110047846889952, lift=3.164906221394116)]), RelationRecord(items=frozenset({'milk', 'frozen vegetables', 'spaghetti', 'mineral water'}), support=0.004533333333333334, ordered_statistics=[OrderedStatistic(items_base=frozenset({'milk', 'spaghetti', 'mineral water'}), items_add=frozenset({'frozen vegetables'}), confidence=0.28813559322033905, lift=3.0224013274860737)]), RelationRecord(items=frozenset({'milk', 'nan', 'frozen vegetables', 'olive oil'}), support=0.0048, ordered_statistics=[OrderedStatistic(items_base=frozenset({'milk', 'frozen vegetables'}), items_add=frozenset({'nan', 'olive oil'}), confidence=0.20338983050847456, lift=3.094165778526489), OrderedStatistic(items_base=frozenset({'frozen vegetables', 'olive oil'}), items_add=frozenset({'milk', 'nan'}), confidence=0.4235294117647058, lift=3.26797385620915), OrderedStatistic(items_base=frozenset({'milk', 'nan', 'frozen vegetables'}), items_add=frozenset({'olive oil'}), confidence=0.20338983050847456, lift=3.094165778526489), OrderedStatistic(items_base=frozenset({'nan', 'frozen vegetables', 'olive oil'}), items_add=frozenset({'milk'}), confidence=0.4235294117647058, lift=3.26797385620915)]), RelationRecord(items=frozenset({'nan', 'frozen vegetables', 'shrimp', 'mineral water'}), support=0.0072, ordered_statistics=[OrderedStatistic(items_base=frozenset({'shrimp', 'mineral water'}), items_add=frozenset({'nan', 'frozen vegetables'}), confidence=0.3068181818181818, lift=3.2183725365543547), OrderedStatistic(items_base=frozenset({'nan', 'shrimp', 'mineral water'}), items_add=frozenset({'frozen vegetables'}), confidence=0.3068181818181818, lift=3.2183725365543547)]), RelationRecord(items=frozenset({'nan', 'frozen vegetables', 'spaghetti', 'olive oil'}), support=0.005733333333333333, ordered_statistics=[OrderedStatistic(items_base=frozenset({'frozen vegetables', 'spaghetti'}), items_add=frozenset({'nan', 'olive oil'}), confidence=0.20574162679425836, lift=3.1299436124887174), OrderedStatistic(items_base=frozenset({'nan', 'frozen vegetables', 'spaghetti'}), items_add=frozenset({'olive oil'}), confidence=0.20574162679425836, lift=3.1299436124887174)]), RelationRecord(items=frozenset({'spaghetti', 'nan', 'frozen vegetables', 'shrimp'}), support=0.006, ordered_statistics=[OrderedStatistic(items_base=frozenset({'frozen vegetables', 'spaghetti'}), items_add=frozenset({'nan', 'shrimp'}), confidence=0.21531100478468898, lift=3.0183785717479763), OrderedStatistic(items_base=frozenset({'nan', 'frozen vegetables', 'spaghetti'}), items_add=frozenset({'shrimp'}), confidence=0.21531100478468898, lift=3.0183785717479763)]), RelationRecord(items=frozenset({'tomatoes', 'nan', 'frozen vegetables', 'spaghetti'}), support=0.006666666666666667, ordered_statistics=[OrderedStatistic(items_base=frozenset({'frozen vegetables', 'spaghetti'}), items_add=frozenset({'nan', 'tomatoes'}), confidence=0.23923444976076555, lift=3.497579674864993), OrderedStatistic(items_base=frozenset({'tomatoes', 'spaghetti'}), items_add=frozenset({'nan', 'frozen vegetables'}), confidence=0.3184713375796178, lift=3.340608436149837), OrderedStatistic(items_base=frozenset({'nan', 'frozen vegetables', 'spaghetti'}), items_add=frozenset({'tomatoes'}), confidence=0.23923444976076555, lift=3.497579674864993), OrderedStatistic(items_base=frozenset({'tomatoes', 'nan', 'spaghetti'}), items_add=frozenset({'frozen vegetables'}), confidence=0.3184713375796178, lift=3.340608436149837)]), RelationRecord(items=frozenset({'grated cheese', 'nan', 'ground beef', 'spaghetti'}), support=0.005333333333333333, ordered_statistics=[OrderedStatistic(items_base=frozenset({'grated cheese', 'spaghetti'}), items_add=frozenset({'nan', 'ground beef'}), confidence=0.3225806451612903, lift=3.282706701098612), OrderedStatistic(items_base=frozenset({'grated cheese', 'nan', 'spaghetti'}), items_add=frozenset({'ground beef'}), confidence=0.3225806451612903, lift=3.282706701098612)]), RelationRecord(items=frozenset({'herb & pepper', 'nan', 'ground beef', 'mineral water'}), support=0.006666666666666667, ordered_statistics=[OrderedStatistic(items_base=frozenset({'herb & pepper', 'mineral water'}), items_add=frozenset({'nan', 'ground beef'}), confidence=0.390625, lift=3.975152645861601), OrderedStatistic(items_base=frozenset({'herb & pepper', 'nan', 'mineral water'}), items_add=frozenset({'ground beef'}), confidence=0.390625, lift=3.975152645861601)]), RelationRecord(items=frozenset({'herb & pepper', 'nan', 'ground beef', 'spaghetti'}), support=0.0064, ordered_statistics=[OrderedStatistic(items_base=frozenset({'herb & pepper', 'spaghetti'}), items_add=frozenset({'nan', 'ground beef'}), confidence=0.3934426229508197, lift=4.003825878061259), OrderedStatistic(items_base=frozenset({'herb & pepper', 'nan', 'spaghetti'}), items_add=frozenset({'ground beef'}), confidence=0.3934426229508197, lift=4.003825878061259)]), RelationRecord(items=frozenset({'milk', 'nan', 'olive oil', 'ground beef'}), support=0.004933333333333333, ordered_statistics=[OrderedStatistic(items_base=frozenset({'milk', 'ground beef'}), items_add=frozenset({'nan', 'olive oil'}), confidence=0.22424242424242424, lift=3.411395906324912), OrderedStatistic(items_base=frozenset({'milk', 'nan', 'ground beef'}), items_add=frozenset({'olive oil'}), confidence=0.22424242424242424, lift=3.411395906324912)]), RelationRecord(items=frozenset({'spaghetti', 'nan', 'ground beef', 'shrimp'}), support=0.006, ordered_statistics=[OrderedStatistic(items_base=frozenset({'shrimp', 'ground beef'}), items_add=frozenset({'nan', 'spaghetti'}), confidence=0.5232558139534884, lift=3.004914704939635), OrderedStatistic(items_base=frozenset({'nan', 'ground beef', 'shrimp'}), items_add=frozenset({'spaghetti'}), confidence=0.5232558139534884, lift=3.004914704939635)]), RelationRecord(items=frozenset({'milk', 'nan', 'olive oil', 'spaghetti'}), support=0.0072, ordered_statistics=[OrderedStatistic(items_base=frozenset({'milk', 'spaghetti'}), items_add=frozenset({'nan', 'olive oil'}), confidence=0.20300751879699247, lift=3.0883496774390333), OrderedStatistic(items_base=frozenset({'milk', 'nan', 'spaghetti'}), items_add=frozenset({'olive oil'}), confidence=0.20300751879699247, lift=3.0883496774390333)]), RelationRecord(items=frozenset({'soup', 'nan', 'olive oil', 'mineral water'}), support=0.0052, ordered_statistics=[OrderedStatistic(items_base=frozenset({'soup', 'mineral water'}), items_add=frozenset({'nan', 'olive oil'}), confidence=0.2254335260115607, lift=3.4295161157945335), OrderedStatistic(items_base=frozenset({'soup', 'nan', 'mineral water'}), items_add=frozenset({'olive oil'}), confidence=0.2254335260115607, lift=3.4295161157945335)]), RelationRecord(items=frozenset({'spaghetti', 'nan', 'olive oil', 'pancakes'}), support=0.005066666666666666, ordered_statistics=[OrderedStatistic(items_base=frozenset({'spaghetti', 'pancakes'}), items_add=frozenset({'nan', 'olive oil'}), confidence=0.20105820105820105, lift=3.0586947422647217), OrderedStatistic(items_base=frozenset({'spaghetti', 'nan', 'pancakes'}), items_add=frozenset({'olive oil'}), confidence=0.20105820105820105, lift=3.0586947422647217)]), RelationRecord(items=frozenset({'milk', 'nan', 'frozen vegetables', 'spaghetti', 'mineral water'}), support=0.004533333333333334, ordered_statistics=[OrderedStatistic(items_base=frozenset({'milk', 'spaghetti', 'mineral water'}), items_add=frozenset({'nan', 'frozen vegetables'}), confidence=0.28813559322033905, lift=3.0224013274860737), OrderedStatistic(items_base=frozenset({'milk', 'nan', 'spaghetti', 'mineral water'}), items_add=frozenset({'frozen vegetables'}), confidence=0.28813559322033905, lift=3.0224013274860737)])]\n"
     ]
    }
   ],
   "source": [
    "print(association_results)"
   ]
  },
  {
   "cell_type": "markdown",
   "metadata": {
    "id": "iY1Nwq878wPn"
   },
   "source": [
    "## How many relation derived"
   ]
  },
  {
   "cell_type": "code",
   "execution_count": 8,
   "metadata": {
    "ExecuteTime": {
     "end_time": "2019-05-31T11:46:55.776118Z",
     "start_time": "2019-05-31T11:46:55.770118Z"
    },
    "colab": {
     "base_uri": "https://localhost:8080/"
    },
    "executionInfo": {
     "elapsed": 507,
     "status": "ok",
     "timestamp": 1677478246885,
     "user": {
      "displayName": "Sagar Apune",
      "userId": "15493244417783154873"
     },
     "user_tz": -330
    },
    "id": "RuCpoBOF8wPo",
    "outputId": "05c2ef53-e2c0-4133-9c95-b96223e92142"
   },
   "outputs": [
    {
     "name": "stdout",
     "output_type": "stream",
     "text": [
      "There are 48 Relation derived.\n"
     ]
    }
   ],
   "source": [
    "print(\"There are {} Relation derived.\".format(len(association_results)))"
   ]
  },
  {
   "cell_type": "markdown",
   "metadata": {
    "id": "xEPkwN7J8wPp"
   },
   "source": [
    "### Association Rules Derived"
   ]
  },
  {
   "cell_type": "code",
   "execution_count": 9,
   "metadata": {
    "ExecuteTime": {
     "end_time": "2019-05-31T11:46:55.873119Z",
     "start_time": "2019-05-31T11:46:55.778119Z"
    },
    "code_folding": [],
    "colab": {
     "base_uri": "https://localhost:8080/",
     "height": 193
    },
    "executionInfo": {
     "elapsed": 408,
     "status": "error",
     "timestamp": 1695630395850,
     "user": {
      "displayName": "Dr.YOGESH R. KULKARNI (YRK)",
      "userId": "14065782165978437974"
     },
     "user_tz": -330
    },
    "id": "ePKOxzIN8wPq",
    "outputId": "74388d86-d7b7-4ccb-b368-3ebf58dc2276"
   },
   "outputs": [
    {
     "name": "stdout",
     "output_type": "stream",
     "text": [
      "frozenset({'chicken', 'light cream'})\n",
      "frozenset({'escalope', 'mushroom cream sauce'})\n",
      "frozenset({'escalope', 'pasta'})\n",
      "frozenset({'herb & pepper', 'ground beef'})\n",
      "frozenset({'tomato sauce', 'ground beef'})\n",
      "frozenset({'olive oil', 'whole wheat pasta'})\n",
      "frozenset({'shrimp', 'pasta'})\n",
      "frozenset({'nan', 'chicken', 'light cream'})\n",
      "frozenset({'shrimp', 'frozen vegetables', 'chocolate'})\n",
      "frozenset({'ground beef', 'cooking oil', 'spaghetti'})\n",
      "frozenset({'escalope', 'nan', 'mushroom cream sauce'})\n",
      "frozenset({'escalope', 'nan', 'pasta'})\n",
      "frozenset({'frozen vegetables', 'ground beef', 'spaghetti'})\n",
      "frozenset({'milk', 'frozen vegetables', 'olive oil'})\n",
      "frozenset({'shrimp', 'frozen vegetables', 'mineral water'})\n",
      "frozenset({'frozen vegetables', 'spaghetti', 'olive oil'})\n",
      "frozenset({'shrimp', 'frozen vegetables', 'spaghetti'})\n",
      "frozenset({'tomatoes', 'frozen vegetables', 'spaghetti'})\n",
      "frozenset({'grated cheese', 'ground beef', 'spaghetti'})\n",
      "frozenset({'herb & pepper', 'ground beef', 'mineral water'})\n",
      "frozenset({'herb & pepper', 'nan', 'ground beef'})\n",
      "frozenset({'herb & pepper', 'ground beef', 'spaghetti'})\n",
      "frozenset({'milk', 'olive oil', 'ground beef'})\n",
      "frozenset({'tomato sauce', 'nan', 'ground beef'})\n",
      "frozenset({'shrimp', 'ground beef', 'spaghetti'})\n",
      "frozenset({'milk', 'olive oil', 'spaghetti'})\n",
      "frozenset({'soup', 'olive oil', 'mineral water'})\n",
      "frozenset({'nan', 'olive oil', 'whole wheat pasta'})\n",
      "frozenset({'nan', 'pasta', 'shrimp'})\n",
      "frozenset({'spaghetti', 'olive oil', 'pancakes'})\n",
      "frozenset({'nan', 'frozen vegetables', 'shrimp', 'chocolate'})\n",
      "frozenset({'nan', 'ground beef', 'cooking oil', 'spaghetti'})\n",
      "frozenset({'nan', 'frozen vegetables', 'ground beef', 'spaghetti'})\n",
      "frozenset({'milk', 'frozen vegetables', 'spaghetti', 'mineral water'})\n",
      "frozenset({'milk', 'nan', 'frozen vegetables', 'olive oil'})\n",
      "frozenset({'nan', 'frozen vegetables', 'shrimp', 'mineral water'})\n",
      "frozenset({'nan', 'frozen vegetables', 'spaghetti', 'olive oil'})\n",
      "frozenset({'spaghetti', 'nan', 'frozen vegetables', 'shrimp'})\n",
      "frozenset({'tomatoes', 'nan', 'frozen vegetables', 'spaghetti'})\n",
      "frozenset({'grated cheese', 'nan', 'ground beef', 'spaghetti'})\n",
      "frozenset({'herb & pepper', 'nan', 'ground beef', 'mineral water'})\n",
      "frozenset({'herb & pepper', 'nan', 'ground beef', 'spaghetti'})\n",
      "frozenset({'milk', 'nan', 'olive oil', 'ground beef'})\n",
      "frozenset({'spaghetti', 'nan', 'ground beef', 'shrimp'})\n",
      "frozenset({'milk', 'nan', 'olive oil', 'spaghetti'})\n",
      "frozenset({'soup', 'nan', 'olive oil', 'mineral water'})\n",
      "frozenset({'spaghetti', 'nan', 'olive oil', 'pancakes'})\n",
      "frozenset({'milk', 'nan', 'frozen vegetables', 'spaghetti', 'mineral water'})\n"
     ]
    }
   ],
   "source": [
    "for i in range(0, len(association_results)):\n",
    "    print(association_results[i][0])"
   ]
  },
  {
   "cell_type": "markdown",
   "metadata": {
    "id": "CzzEKoxP8wPr"
   },
   "source": [
    "## Rules Generated"
   ]
  },
  {
   "cell_type": "code",
   "execution_count": 10,
   "metadata": {
    "ExecuteTime": {
     "end_time": "2019-05-31T11:48:08.589737Z",
     "start_time": "2019-05-31T11:48:08.573742Z"
    },
    "colab": {
     "base_uri": "https://localhost:8080/"
    },
    "executionInfo": {
     "elapsed": 730,
     "status": "ok",
     "timestamp": 1677478260193,
     "user": {
      "displayName": "Sagar Apune",
      "userId": "15493244417783154873"
     },
     "user_tz": -330
    },
    "id": "YgmTgnfe8wPr",
    "outputId": "41640c5a-db6c-47a8-adae-3c347283100a",
    "scrolled": false
   },
   "outputs": [
    {
     "name": "stdout",
     "output_type": "stream",
     "text": [
      "Rule: chicken -> light cream\n",
      "Support: 0.004533333333333334\n",
      "Confidence: 0.2905982905982906\n",
      "Lift: 4.843304843304844\n",
      "=====================================\n",
      "Rule: escalope -> mushroom cream sauce\n",
      "Support: 0.005733333333333333\n",
      "Confidence: 0.30069930069930073\n",
      "Lift: 3.7903273197390845\n",
      "=====================================\n",
      "Rule: escalope -> pasta\n",
      "Support: 0.005866666666666667\n",
      "Confidence: 0.37288135593220345\n",
      "Lift: 4.700185158809287\n",
      "=====================================\n",
      "Rule: herb & pepper -> ground beef\n",
      "Support: 0.016\n",
      "Confidence: 0.3234501347708895\n",
      "Lift: 3.2915549671393096\n",
      "=====================================\n",
      "Rule: tomato sauce -> ground beef\n",
      "Support: 0.005333333333333333\n",
      "Confidence: 0.37735849056603776\n",
      "Lift: 3.840147461662528\n",
      "=====================================\n",
      "Rule: olive oil -> whole wheat pasta\n",
      "Support: 0.008\n",
      "Confidence: 0.2714932126696833\n",
      "Lift: 4.130221288078346\n",
      "=====================================\n",
      "Rule: shrimp -> pasta\n",
      "Support: 0.005066666666666666\n",
      "Confidence: 0.3220338983050848\n",
      "Lift: 4.514493901473151\n",
      "=====================================\n",
      "Rule: nan -> chicken\n",
      "Support: 0.004533333333333334\n",
      "Confidence: 0.2905982905982906\n",
      "Lift: 4.843304843304844\n",
      "=====================================\n",
      "Rule: shrimp -> frozen vegetables\n",
      "Support: 0.005333333333333333\n",
      "Confidence: 0.23255813953488372\n",
      "Lift: 3.260160834601174\n",
      "=====================================\n",
      "Rule: ground beef -> cooking oil\n",
      "Support: 0.0048\n",
      "Confidence: 0.5714285714285714\n",
      "Lift: 3.281557646029315\n",
      "=====================================\n",
      "Rule: escalope -> nan\n",
      "Support: 0.005733333333333333\n",
      "Confidence: 0.30069930069930073\n",
      "Lift: 3.7903273197390845\n",
      "=====================================\n",
      "Rule: escalope -> nan\n",
      "Support: 0.005866666666666667\n",
      "Confidence: 0.37288135593220345\n",
      "Lift: 4.700185158809287\n",
      "=====================================\n",
      "Rule: frozen vegetables -> ground beef\n",
      "Support: 0.008666666666666666\n",
      "Confidence: 0.3110047846889952\n",
      "Lift: 3.164906221394116\n",
      "=====================================\n",
      "Rule: milk -> frozen vegetables\n",
      "Support: 0.0048\n",
      "Confidence: 0.20338983050847456\n",
      "Lift: 3.094165778526489\n",
      "=====================================\n",
      "Rule: shrimp -> frozen vegetables\n",
      "Support: 0.0072\n",
      "Confidence: 0.3068181818181818\n",
      "Lift: 3.2183725365543547\n",
      "=====================================\n",
      "Rule: frozen vegetables -> spaghetti\n",
      "Support: 0.005733333333333333\n",
      "Confidence: 0.20574162679425836\n",
      "Lift: 3.1299436124887174\n",
      "=====================================\n",
      "Rule: shrimp -> frozen vegetables\n",
      "Support: 0.006\n",
      "Confidence: 0.21531100478468898\n",
      "Lift: 3.0183785717479763\n",
      "=====================================\n",
      "Rule: tomatoes -> frozen vegetables\n",
      "Support: 0.006666666666666667\n",
      "Confidence: 0.23923444976076555\n",
      "Lift: 3.497579674864993\n",
      "=====================================\n",
      "Rule: grated cheese -> ground beef\n",
      "Support: 0.005333333333333333\n",
      "Confidence: 0.3225806451612903\n",
      "Lift: 3.282706701098612\n",
      "=====================================\n",
      "Rule: herb & pepper -> ground beef\n",
      "Support: 0.006666666666666667\n",
      "Confidence: 0.390625\n",
      "Lift: 3.975152645861601\n",
      "=====================================\n",
      "Rule: herb & pepper -> nan\n",
      "Support: 0.016\n",
      "Confidence: 0.3234501347708895\n",
      "Lift: 3.2915549671393096\n",
      "=====================================\n",
      "Rule: herb & pepper -> ground beef\n",
      "Support: 0.0064\n",
      "Confidence: 0.3934426229508197\n",
      "Lift: 4.003825878061259\n",
      "=====================================\n",
      "Rule: milk -> olive oil\n",
      "Support: 0.004933333333333333\n",
      "Confidence: 0.22424242424242424\n",
      "Lift: 3.411395906324912\n",
      "=====================================\n",
      "Rule: tomato sauce -> nan\n",
      "Support: 0.005333333333333333\n",
      "Confidence: 0.37735849056603776\n",
      "Lift: 3.840147461662528\n",
      "=====================================\n",
      "Rule: shrimp -> ground beef\n",
      "Support: 0.006\n",
      "Confidence: 0.5232558139534884\n",
      "Lift: 3.004914704939635\n",
      "=====================================\n",
      "Rule: milk -> olive oil\n",
      "Support: 0.0072\n",
      "Confidence: 0.20300751879699247\n",
      "Lift: 3.0883496774390333\n",
      "=====================================\n",
      "Rule: soup -> olive oil\n",
      "Support: 0.0052\n",
      "Confidence: 0.2254335260115607\n",
      "Lift: 3.4295161157945335\n",
      "=====================================\n",
      "Rule: nan -> olive oil\n",
      "Support: 0.008\n",
      "Confidence: 0.2714932126696833\n",
      "Lift: 4.130221288078346\n",
      "=====================================\n",
      "Rule: nan -> pasta\n",
      "Support: 0.005066666666666666\n",
      "Confidence: 0.3220338983050848\n",
      "Lift: 4.514493901473151\n",
      "=====================================\n",
      "Rule: spaghetti -> olive oil\n",
      "Support: 0.005066666666666666\n",
      "Confidence: 0.20105820105820105\n",
      "Lift: 3.0586947422647217\n",
      "=====================================\n",
      "Rule: nan -> frozen vegetables\n",
      "Support: 0.005333333333333333\n",
      "Confidence: 0.23255813953488372\n",
      "Lift: 3.260160834601174\n",
      "=====================================\n",
      "Rule: nan -> ground beef\n",
      "Support: 0.0048\n",
      "Confidence: 0.5714285714285714\n",
      "Lift: 3.281557646029315\n",
      "=====================================\n",
      "Rule: nan -> frozen vegetables\n",
      "Support: 0.008666666666666666\n",
      "Confidence: 0.3110047846889952\n",
      "Lift: 3.164906221394116\n",
      "=====================================\n",
      "Rule: milk -> frozen vegetables\n",
      "Support: 0.004533333333333334\n",
      "Confidence: 0.28813559322033905\n",
      "Lift: 3.0224013274860737\n",
      "=====================================\n",
      "Rule: milk -> nan\n",
      "Support: 0.0048\n",
      "Confidence: 0.20338983050847456\n",
      "Lift: 3.094165778526489\n",
      "=====================================\n",
      "Rule: nan -> frozen vegetables\n",
      "Support: 0.0072\n",
      "Confidence: 0.3068181818181818\n",
      "Lift: 3.2183725365543547\n",
      "=====================================\n",
      "Rule: nan -> frozen vegetables\n",
      "Support: 0.005733333333333333\n",
      "Confidence: 0.20574162679425836\n",
      "Lift: 3.1299436124887174\n",
      "=====================================\n",
      "Rule: spaghetti -> nan\n",
      "Support: 0.006\n",
      "Confidence: 0.21531100478468898\n",
      "Lift: 3.0183785717479763\n",
      "=====================================\n",
      "Rule: tomatoes -> nan\n",
      "Support: 0.006666666666666667\n",
      "Confidence: 0.23923444976076555\n",
      "Lift: 3.497579674864993\n",
      "=====================================\n",
      "Rule: grated cheese -> nan\n",
      "Support: 0.005333333333333333\n",
      "Confidence: 0.3225806451612903\n",
      "Lift: 3.282706701098612\n",
      "=====================================\n",
      "Rule: herb & pepper -> nan\n",
      "Support: 0.006666666666666667\n",
      "Confidence: 0.390625\n",
      "Lift: 3.975152645861601\n",
      "=====================================\n",
      "Rule: herb & pepper -> nan\n",
      "Support: 0.0064\n",
      "Confidence: 0.3934426229508197\n",
      "Lift: 4.003825878061259\n",
      "=====================================\n",
      "Rule: milk -> nan\n",
      "Support: 0.004933333333333333\n",
      "Confidence: 0.22424242424242424\n",
      "Lift: 3.411395906324912\n",
      "=====================================\n",
      "Rule: spaghetti -> nan\n",
      "Support: 0.006\n",
      "Confidence: 0.5232558139534884\n",
      "Lift: 3.004914704939635\n",
      "=====================================\n",
      "Rule: milk -> nan\n",
      "Support: 0.0072\n",
      "Confidence: 0.20300751879699247\n",
      "Lift: 3.0883496774390333\n",
      "=====================================\n",
      "Rule: soup -> nan\n",
      "Support: 0.0052\n",
      "Confidence: 0.2254335260115607\n",
      "Lift: 3.4295161157945335\n",
      "=====================================\n",
      "Rule: spaghetti -> nan\n",
      "Support: 0.005066666666666666\n",
      "Confidence: 0.20105820105820105\n",
      "Lift: 3.0586947422647217\n",
      "=====================================\n",
      "Rule: milk -> nan\n",
      "Support: 0.004533333333333334\n",
      "Confidence: 0.28813559322033905\n",
      "Lift: 3.0224013274860737\n",
      "=====================================\n"
     ]
    }
   ],
   "source": [
    "for item in association_results:\n",
    "    # first index of the inner list\n",
    "    # Contains base item and add item\n",
    "    pair = item[0]\n",
    "    items = [x for x in pair]\n",
    "    print(\"Rule: \" + items[0] + \" -> \" + items[1])\n",
    "\n",
    "    # second index of the inner list\n",
    "    print(\"Support: \" + str(item[1]))\n",
    "\n",
    "    # third index of the list located at 0th\n",
    "    # of the third index of the inner list\n",
    "\n",
    "    print(\"Confidence: \" + str(item[2][0][2]))\n",
    "    print(\"Lift: \" + str(item[2][0][3]))\n",
    "    print(\"=====================================\")"
   ]
  },
  {
   "cell_type": "markdown",
   "metadata": {
    "ExecuteTime": {
     "end_time": "2019-05-31T11:56:17.717346Z",
     "start_time": "2019-05-31T11:56:17.713349Z"
    },
    "id": "3HglEebc8wPs"
   },
   "source": []
  }
 ],
 "metadata": {
  "colab": {
   "provenance": []
  },
  "hide_input": false,
  "kernelspec": {
   "display_name": "Python 3",
   "language": "python",
   "name": "python3"
  },
  "language_info": {
   "codemirror_mode": {
    "name": "ipython",
    "version": 3
   },
   "file_extension": ".py",
   "mimetype": "text/x-python",
   "name": "python",
   "nbconvert_exporter": "python",
   "pygments_lexer": "ipython3",
   "version": "3.11.9"
  },
  "latex_envs": {
   "LaTeX_envs_menu_present": true,
   "autoclose": false,
   "autocomplete": true,
   "bibliofile": "biblio.bib",
   "cite_by": "apalike",
   "current_citInitial": 1,
   "eqLabelWithNumbers": true,
   "eqNumInitial": 1,
   "hotkeys": {
    "equation": "Ctrl-E",
    "itemize": "Ctrl-I"
   },
   "labels_anchors": false,
   "latex_user_defs": false,
   "report_style_numbering": false,
   "user_envs_cfg": false
  },
  "nbTranslate": {
   "displayLangs": [
    "*"
   ],
   "hotkey": "alt-t",
   "langInMainMenu": true,
   "sourceLang": "en",
   "targetLang": "fr",
   "useGoogleTranslate": true
  },
  "toc": {
   "base_numbering": 1,
   "nav_menu": {},
   "number_sections": true,
   "sideBar": true,
   "skip_h1_title": false,
   "title_cell": "Table of Contents",
   "title_sidebar": "Contents",
   "toc_cell": false,
   "toc_position": {},
   "toc_section_display": true,
   "toc_window_display": false
  },
  "varInspector": {
   "cols": {
    "lenName": 16,
    "lenType": 16,
    "lenVar": 40
   },
   "kernels_config": {
    "python": {
     "delete_cmd_postfix": "",
     "delete_cmd_prefix": "del ",
     "library": "var_list.py",
     "varRefreshCmd": "print(var_dic_list())"
    },
    "r": {
     "delete_cmd_postfix": ") ",
     "delete_cmd_prefix": "rm(",
     "library": "var_list.r",
     "varRefreshCmd": "cat(var_dic_list()) "
    }
   },
   "types_to_exclude": [
    "module",
    "function",
    "builtin_function_or_method",
    "instance",
    "_Feature"
   ],
   "window_display": false
  }
 },
 "nbformat": 4,
 "nbformat_minor": 0
}
